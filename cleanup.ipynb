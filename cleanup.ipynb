{
 "cells": [
  {
   "cell_type": "code",
   "execution_count": null,
   "metadata": {
    "metadata": {}
   },
   "outputs": [],
   "source": [
    "import numpy as np\n",
    "import pandas as pd\n",
    "import json\n",
    "from collections import defaultdict\n",
    "from pathlib import Path\n",
    "from wsgi import read_ak_data, read_info, read_ak_list, read_blocks"
   ]
  },
  {
   "cell_type": "code",
   "execution_count": null,
   "metadata": {
    "metadata": {}
   },
   "outputs": [],
   "source": [
    "poll_name = \"koma90\"\n",
    "export_dir = Path(\"export\") / poll_name"
   ]
  },
  {
   "cell_type": "code",
   "execution_count": null,
   "metadata": {
    "metadata": {}
   },
   "outputs": [],
   "source": [
    "data"
   ]
  },
  {
   "cell_type": "code",
   "execution_count": null,
   "metadata": {
    "metadata": {}
   },
   "outputs": [],
   "source": [
    "data = read_ak_data(poll_name)\n",
    "ak_list = read_ak_list(data)\n",
    "block_dict = read_blocks(data, default={})"
   ]
  },
  {
   "cell_type": "code",
   "execution_count": null,
   "metadata": {
    "metadata": {}
   },
   "outputs": [],
   "source": [
    "name_lst = []\n",
    "for result_json in export_dir.glob(\"*.json\"):\n",
    "    with result_json.open(\"r\") as ff:\n",
    "        result_dict = json.load(ff)\n",
    "    result_dict[\"info\"][\"filename\"] = result_json.name\n",
    "    result_dict[\"preferences\"].append(\n",
    "        {\n",
    "          \"ak_id\": \"ak40\",\n",
    "          \"required\": False,\n",
    "          \"preference_score\": 1\n",
    "        }\n",
    "    )\n",
    "    name_lst.append(\n",
    "        [\n",
    "            f\"{result_dict['info']['name']} ({result_dict['info']['uni']})\",\n",
    "            result_json.name\n",
    "        ]\n",
    "    )\n",
    "with open(\"/tmp/tmp.txt\", \"w\") as ff:\n",
    "    json.dump(list(sorted(name_lst)), ff, indent=2, ensure_ascii=False)"
   ]
  },
  {
   "cell_type": "code",
   "execution_count": null,
   "metadata": {
    "metadata": {}
   },
   "outputs": [],
   "source": [
    "for idx, ak in enumerate(data[\"aks\"]):\n",
    "    ak[\"id\"] = f\"ak{idx}\"\n",
    "    if \"required_time_constraints\" in ak:\n",
    "        ak[\"time_constraints\"] = ak[\"required_time_constraints\"]\n",
    "        del ak[\"required_time_constraints\"]\n",
    "    elif not \"time_constraints\" in ak:\n",
    "        ak[\"time_constraints\"] = []\n",
    "\n",
    "    if \"duration\" not in ak:\n",
    "        if \"duration\" in ak[\"info\"]:\n",
    "            ak[\"duration\"] = int(ak[\"info\"][\"duration\"])\n",
    "        else:\n",
    "            ak[\"duration\"] = 2\n",
    "    \n",
    "    if isinstance(ak[\"duration\"], str):\n",
    "        print(ak)\n",
    "\n",
    "    if \"required_room_constraints\" in ak:\n",
    "        ak[\"room_constraints\"] = ak[\"required_room_constraints\"]\n",
    "        del ak[\"required_room_constraints\"]\n",
    "    elif not \"room_constraints\" in ak:\n",
    "        ak[\"room_constraints\"] = []\n",
    "\n",
    "    ak[\"properties\"] = {}"
   ]
  },
  {
   "cell_type": "code",
   "execution_count": null,
   "metadata": {
    "metadata": {}
   },
   "outputs": [],
   "source": [
    "participants = []\n",
    "for result_json in export_dir.glob(\"*.json\"):\n",
    "    with result_json.open(\"r\") as ff:\n",
    "        result_dict = json.load(ff)\n",
    "    result_dict[\"id\"] = result_json.stem\n",
    "    if \"required_time_constraints\" in result_dict.keys():\n",
    "        result_dict[\"time_constraints\"] = result_dict[\"required_time_constraints\"]\n",
    "        del result_dict[\"required_time_constraints\"]\n",
    "    if not \"time_constraints\" in result_dict.keys():\n",
    "        result_dict[\"room_constraints\"] = []\n",
    "    participants.append(result_dict)\n",
    "with open(\"participants.json\", \"w\") as ff:\n",
    "    json.dump(participants, ff, ensure_ascii=False, indent=2)"
   ]
  },
  {
   "cell_type": "code",
   "execution_count": null,
   "metadata": {
    "metadata": {}
   },
   "outputs": [],
   "source": [
    "data[\"participants\"] = participants\n",
    "\n",
    "with open(\"export.json\", \"w\") as ff:\n",
    "    json.dump(data, ff, ensure_ascii=False, indent=2)"
   ]
  },
  {
   "cell_type": "code",
   "execution_count": null,
   "metadata": {
    "metadata": {}
   },
   "outputs": [],
   "source": [
    "\n",
    "\n",
    "if (data := read_ak_data(poll_name)) is not None:\n",
    "    \n",
    "    ak_pref_dict = defaultdict(lambda: defaultdict(int))\n",
    "    time_constraint_dict = defaultdict(lambda: defaultdict(int))\n",
    "    block_lst = []\n",
    "    for day, day_entries in block_dict.items():\n",
    "        block_lst.extend(\n",
    "            [f\"{day[:2]} {slot_name}\" for block_idx, slot_name in day_entries]\n",
    "        )\n",
    "    \n",
    "    ak_pref_dict = {k: dict(v) for k, v in ak_pref_dict.items()}\n",
    "    for k in ak_pref_dict:\n",
    "        ak_pref_dict[k][\"time_constraints\"] = dict(time_constraint_dict[k])"
   ]
  },
  {
   "cell_type": "code",
   "execution_count": null,
   "metadata": {},
   "outputs": [],
   "source": []
  }
 ],
 "metadata": {
  "kernelspec": {
   "display_name": "ak-plan-poll",
   "language": "python",
   "name": "python3"
  },
  "language_info": {
   "codemirror_mode": {
    "name": "ipython",
    "version": 3
   },
   "file_extension": ".py",
   "mimetype": "text/x-python",
   "name": "python",
   "nbconvert_exporter": "python",
   "pygments_lexer": "ipython3",
   "version": "3.11.9"
  }
 },
 "nbformat": 4,
 "nbformat_minor": 2
}

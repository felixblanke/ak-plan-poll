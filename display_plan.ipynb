{
 "cells": [
  {
   "cell_type": "code",
   "execution_count": null,
   "metadata": {},
   "outputs": [],
   "source": [
    "import json\n",
    "import numpy as np\n",
    "import pandas as pd"
   ]
  },
  {
   "cell_type": "code",
   "execution_count": null,
   "metadata": {},
   "outputs": [],
   "source": [
    "with open(\"out-export.json\", \"r\") as f:\n",
    "    result = json.load(f)\n",
    "\n",
    "scheduled_aks = result[\"scheduled_aks\"]\n",
    "inputs = result[\"input\"]\n",
    "\n",
    "results = []\n",
    "\n",
    "for ak in scheduled_aks:\n",
    "    ak_id = ak[\"ak_id\"]\n",
    "    room_id = ak[\"room_id\"]\n",
    "    timeslot_ids = ak[\"timeslot_ids\"]\n",
    "\n",
    "    timeslot_names = []\n",
    "    for timeslot_id in timeslot_ids:\n",
    "        for block in inputs[\"timeslots\"][\"blocks\"]:\n",
    "            for timeslot in block:\n",
    "                if timeslot[\"id\"] == timeslot_id:\n",
    "                    timeslot_names.append(timeslot[\"info\"][\"start\"])\n",
    "                    break\n",
    "            else:\n",
    "                continue\n",
    "            break\n",
    "\n",
    "    timeslot_names = \"/\".join(sorted(timeslot_names))\n",
    "    \n",
    "    for room in inputs[\"rooms\"]:\n",
    "        if room[\"id\"] == room_id:\n",
    "            room_name = room[\"info\"][\"name\"]\n",
    "            break\n",
    "\n",
    "    for ak in inputs[\"aks\"]:\n",
    "        if ak[\"id\"] == ak_id:\n",
    "            ak_name = ak[\"info\"][\"name\"]\n",
    "            break\n",
    "\n",
    "    results.append((ak_name, room_name, timeslot_names))\n",
    "\n",
    "df = pd.DataFrame(\n",
    "    results, columns=[\"AK\", \"Room\", \"Timeslot\"]\n",
    ")[[\"Timeslot\", \"Room\", \"AK\"]].sort_values([\"Timeslot\", \"Room\"])"
   ]
  },
  {
   "cell_type": "code",
   "execution_count": null,
   "metadata": {},
   "outputs": [],
   "source": [
    "import pandas as pd\n",
    "from IPython.display import HTML, display\n",
    "display(HTML(df.to_html(index=False)))"
   ]
  },
  {
   "cell_type": "code",
   "execution_count": null,
   "metadata": {},
   "outputs": [],
   "source": [
    "pd.pivot(df, index=\"Timeslot\", columns=\"Room\", values=\"AK\").fillna(\"\")"
   ]
  },
  {
   "cell_type": "code",
   "execution_count": null,
   "metadata": {},
   "outputs": [],
   "source": [
    "print(df.to_markdown(index=False))"
   ]
  }
 ],
 "metadata": {
  "kernelspec": {
   "display_name": "tvstud",
   "language": "python",
   "name": "python3"
  },
  "language_info": {
   "codemirror_mode": {
    "name": "ipython",
    "version": 3
   },
   "file_extension": ".py",
   "mimetype": "text/x-python",
   "name": "python",
   "nbconvert_exporter": "python",
   "pygments_lexer": "ipython3",
   "version": "3.11.9"
  },
  "orig_nbformat": 4
 },
 "nbformat": 4,
 "nbformat_minor": 2
}

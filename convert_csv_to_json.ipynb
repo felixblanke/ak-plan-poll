{
 "cells": [
  {
   "cell_type": "code",
   "execution_count": null,
   "metadata": {
    "metadata": {}
   },
   "outputs": [],
   "source": [
    "import numpy as np\n",
    "import pandas as pd\n",
    "import json"
   ]
  },
  {
   "cell_type": "code",
   "execution_count": null,
   "metadata": {
    "metadata": {}
   },
   "outputs": [],
   "source": [
    "df = pd.read_csv(\"result.csv\")"
   ]
  },
  {
   "cell_type": "code",
   "execution_count": null,
   "metadata": {
    "metadata": {}
   },
   "outputs": [],
   "source": [
    "ak_list = [\n",
    "    {\n",
    "        \"info\": {\n",
    "        \"name\": row[\"AK\"],\n",
    "        \"description\": row[\"AKS Kurzbeschreibung\"],\n",
    "        \"head\": \"\" if pd.isna(row[\"Leitung\"]) else row[\"Leitung\"],\n",
    "        \"reso\": \"Reso\" in row[\"AKS Typ\"].split(\",\")\n",
    "        }\n",
    "    }\n",
    "    for ak_idx, row in df.iterrows()\n",
    "]"
   ]
  },
  {
   "cell_type": "code",
   "execution_count": null,
   "metadata": {
    "metadata": {}
   },
   "outputs": [],
   "source": [
    "with open(f\"data-enabled/koma90-draft.json\", \"w\") as ff:\n",
    "    json.dump({\n",
    "        \"aks\": ak_list\n",
    "    }, ff, indent=2, ensure_ascii=False)"
   ]
  },
  {
   "cell_type": "code",
   "execution_count": null,
   "metadata": {},
   "outputs": [],
   "source": []
  }
 ],
 "metadata": {
  "kernelspec": {
   "display_name": "ak-plan-poll",
   "language": "python",
   "name": "python3"
  },
  "language_info": {
   "codemirror_mode": {
    "name": "ipython",
    "version": 3
   },
   "file_extension": ".py",
   "mimetype": "text/x-python",
   "name": "python",
   "nbconvert_exporter": "python",
   "pygments_lexer": "ipython3",
   "version": "3.11.9"
  }
 },
 "nbformat": 4,
 "nbformat_minor": 2
}
